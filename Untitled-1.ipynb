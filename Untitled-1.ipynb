{
 "cells": [
  {
   "cell_type": "code",
   "execution_count": 2,
   "metadata": {},
   "outputs": [
    {
     "data": {
      "text/plain": [
       "array([  1.        ,   1.742909  ,   3.03773178,   5.29449005,\n",
       "         9.22781435,  16.08324067,  28.03162489,  48.85657127,\n",
       "        85.15255772, 148.4131591 ])"
      ]
     },
     "execution_count": 2,
     "metadata": {},
     "output_type": "execute_result"
    }
   ],
   "source": [
    "import numpy as np\n",
    "\n",
    "lst = [1,2,3,4.0]\n",
    "v = np.array(lst, dtype=np.int32)\n",
    "\n",
    "np.logspace(0, 5, 10, base=np.e)\n"
   ]
  },
  {
   "cell_type": "code",
   "execution_count": 3,
   "metadata": {},
   "outputs": [
    {
     "name": "stdout",
     "output_type": "stream",
     "text": [
      "[[[-0.36521944 -1.45620823  2.29913155  0.25727747]\n",
      "  [ 0.49891629  0.05105719  0.10665669  0.25438113]\n",
      "  [-1.88069775 -0.86327576 -0.74129422  0.14579866]]\n",
      "\n",
      " [[ 0.08877584 -1.40566292 -0.14860057  0.86844967]\n",
      "  [ 1.52822504  0.40301757 -0.51485333 -0.77526436]\n",
      "  [-1.95769413  0.63640365  0.75745866  0.61291899]]]\n",
      "3\n",
      "24\n",
      "8\n"
     ]
    },
    {
     "data": {
      "text/plain": [
       "(2, 3, 4)"
      ]
     },
     "execution_count": 3,
     "metadata": {},
     "output_type": "execute_result"
    }
   ],
   "source": [
    "gaussian = np.random.randn(2 * 3 * 4).reshape((2, 3, 4))\n",
    "print(gaussian)\n",
    "print(gaussian.ndim)\n",
    "print(gaussian.size)\n",
    "print(gaussian.itemsize)\n",
    "gaussian.shape\n"
   ]
  },
  {
   "cell_type": "markdown",
   "metadata": {},
   "source": [
    "Reshape"
   ]
  },
  {
   "cell_type": "code",
   "execution_count": 4,
   "metadata": {},
   "outputs": [
    {
     "data": {
      "text/plain": [
       "array([[ 1,  2,  3,  4,  5,  6,  7,  8,  9, 10, 11, 12, 13, 14, 15],\n",
       "       [16, 17, 18, 19, 20, 21, 22, 23, 24, 25, 26, 27, 28, 29, 30],\n",
       "       [31, 32, 33, 34, 35, 36, 37, 38, 39, 40, 41, 42, 43, 44, 45]])"
      ]
     },
     "execution_count": 4,
     "metadata": {},
     "output_type": "execute_result"
    }
   ],
   "source": [
    "num_samples = 10\n",
    "integers = np.random.randint(23, size=num_samples)\n",
    "twoD_arr = np.arange(1, 46).reshape(3, -1)\n",
    "twoD_arr"
   ]
  },
  {
   "cell_type": "code",
   "execution_count": 5,
   "metadata": {},
   "outputs": [
    {
     "name": "stdout",
     "output_type": "stream",
     "text": [
      "[ 6  9 19  8 22  0 19 17 14 20]\n"
     ]
    },
    {
     "data": {
      "text/plain": [
       "array([ 6, 19, 22, 19, 14], dtype=int32)"
      ]
     },
     "execution_count": 5,
     "metadata": {},
     "output_type": "execute_result"
    }
   ],
   "source": [
    "print(integers)\n",
    "integers[::2]\n"
   ]
  },
  {
   "cell_type": "markdown",
   "metadata": {},
   "source": [
    "Exercice 1:"
   ]
  },
  {
   "cell_type": "code",
   "execution_count": 6,
   "metadata": {},
   "outputs": [
    {
     "name": "stdout",
     "output_type": "stream",
     "text": [
      "[ 5. 10. 15. 20. 25.]\n"
     ]
    }
   ],
   "source": [
    "D1 = np.array([5, 10, 15, 20, 25], dtype=\"float64\")\n",
    "print(D1)"
   ]
  },
  {
   "cell_type": "code",
   "execution_count": 7,
   "metadata": {},
   "outputs": [
    {
     "name": "stdout",
     "output_type": "stream",
     "text": [
      "(3, 3) 9\n"
     ]
    }
   ],
   "source": [
    "D2 = np.array([[1, 2, 3], [4, 5, 6], [7, 8, 9]])\n",
    "print(D2.shape, D2.size)"
   ]
  },
  {
   "cell_type": "code",
   "execution_count": 8,
   "metadata": {},
   "outputs": [
    {
     "name": "stdout",
     "output_type": "stream",
     "text": [
      "3 (2, 3, 4)\n"
     ]
    }
   ],
   "source": [
    "D3 = np.random.randn(24).reshape((2, 3, 4))\n",
    "print(D3.ndim, D3.shape)"
   ]
  },
  {
   "cell_type": "markdown",
   "metadata": {},
   "source": [
    "Exercice 2:"
   ]
  },
  {
   "cell_type": "code",
   "execution_count": 9,
   "metadata": {},
   "outputs": [
    {
     "data": {
      "text/plain": [
       "array([9, 8, 7, 6, 5, 4, 3, 2, 1, 0])"
      ]
     },
     "execution_count": 9,
     "metadata": {},
     "output_type": "execute_result"
    }
   ],
   "source": [
    "integers = np.arange(10)\n",
    "integers = integers[::-1]\n",
    "integers"
   ]
  },
  {
   "cell_type": "code",
   "execution_count": 10,
   "metadata": {},
   "outputs": [
    {
     "name": "stdout",
     "output_type": "stream",
     "text": [
      "[[ 0  1  2  3]\n",
      " [ 4  5  6  7]\n",
      " [ 8  9 10 11]]\n"
     ]
    },
    {
     "data": {
      "text/plain": [
       "array([[2, 3],\n",
       "       [6, 7]])"
      ]
     },
     "execution_count": 10,
     "metadata": {},
     "output_type": "execute_result"
    }
   ],
   "source": [
    "integers2D = np.arange(12).reshape((3,4))\n",
    "print(integers2D)\n",
    "integers2D = integers2D[:2,-2:]\n",
    "integers2D"
   ]
  },
  {
   "cell_type": "code",
   "execution_count": 11,
   "metadata": {},
   "outputs": [
    {
     "name": "stdout",
     "output_type": "stream",
     "text": [
      "[[ 5  5  1  9  2]\n",
      " [ 3  3  4  6  0]\n",
      " [ 7  9  5  5  7]\n",
      " [10  4  3  1  5]\n",
      " [ 4  5  8  6  1]]\n",
      "[[0 0 1 0 2]\n",
      " [3 3 4 0 0]\n",
      " [0 0 0 0 0]\n",
      " [0 4 3 1 0]\n",
      " [4 0 0 0 1]]\n"
     ]
    }
   ],
   "source": [
    "def under5(arr):\n",
    "    return (arr < 5) * arr\n",
    "randint2D = np.random.randint(0,11,25).reshape((5,5))\n",
    "print(randint2D)\n",
    "print(under5(randint2D))"
   ]
  },
  {
   "cell_type": "markdown",
   "metadata": {},
   "source": [
    "Exercice 3:"
   ]
  },
  {
   "cell_type": "code",
   "execution_count": 12,
   "metadata": {},
   "outputs": [
    {
     "name": "stdout",
     "output_type": "stream",
     "text": [
      "[[1. 0. 0.]\n",
      " [0. 1. 0.]\n",
      " [0. 0. 1.]]\n",
      "2\n",
      "(3, 3)\n",
      "9\n",
      "8\n",
      "72\n"
     ]
    }
   ],
   "source": [
    "identity = np.identity(3)\n",
    "print(identity)\n",
    "print(identity.ndim)\n",
    "print(identity.shape)\n",
    "print(identity.size)\n",
    "print(identity.itemsize)\n",
    "print(identity.nbytes)\n",
    "\n"
   ]
  },
  {
   "cell_type": "code",
   "execution_count": 13,
   "metadata": {},
   "outputs": [
    {
     "name": "stdout",
     "output_type": "stream",
     "text": [
      "float64\n"
     ]
    },
    {
     "data": {
      "text/plain": [
       "array([0.        , 0.55555556, 1.11111111, 1.66666667, 2.22222222,\n",
       "       2.77777778, 3.33333333, 3.88888889, 4.44444444, 5.        ])"
      ]
     },
     "execution_count": 13,
     "metadata": {},
     "output_type": "execute_result"
    }
   ],
   "source": [
    "evenly_spaced = np.linspace(0,5,10)\n",
    "print(evenly_spaced.dtype)\n",
    "evenly_spaced"
   ]
  },
  {
   "cell_type": "code",
   "execution_count": 14,
   "metadata": {},
   "outputs": [
    {
     "name": "stdout",
     "output_type": "stream",
     "text": [
      "[[[ 0.8019763  -0.40241941 -1.00438738  0.18350559]\n",
      "  [ 0.151401   -0.08657701 -1.34684696 -0.87171188]\n",
      "  [-1.96416953  0.65453444 -0.75075565  1.04055299]]\n",
      "\n",
      " [[-0.5920482  -0.0423442   0.9879526   0.79017189]\n",
      "  [ 0.86877433  0.39776619  1.604367   -0.76159428]\n",
      "  [ 0.44936823  0.87211747  0.71483457 -1.55907545]]]\n",
      "0.1353926552148743\n"
     ]
    }
   ],
   "source": [
    "gaussian = np.random.randn(2 * 3 * 4)\n",
    "somme = gaussian.sum()\n",
    "gaussian = gaussian.reshape(2, 3, 4)\n",
    "print(gaussian)\n",
    "print(somme)\n"
   ]
  },
  {
   "cell_type": "markdown",
   "metadata": {},
   "source": [
    "Exercice 4:"
   ]
  },
  {
   "cell_type": "code",
   "execution_count": 15,
   "metadata": {},
   "outputs": [
    {
     "data": {
      "text/plain": [
       "array([25,  0, 10,  2, 22], dtype=int32)"
      ]
     },
     "execution_count": 15,
     "metadata": {},
     "output_type": "execute_result"
    }
   ],
   "source": [
    "twoD_arr = np.random.randint(51,size=20)\n",
    "twoD_arr[[2,5,7,10,15]]"
   ]
  },
  {
   "cell_type": "code",
   "execution_count": 16,
   "metadata": {},
   "outputs": [
    {
     "name": "stdout",
     "output_type": "stream",
     "text": [
      "[[22  9 17 10 24]\n",
      " [ 1 22  3 12 29]\n",
      " [27 14 10 22 14]\n",
      " [20  5 13 12 15]]\n"
     ]
    },
    {
     "data": {
      "text/plain": [
       "array([22, 17, 24, 22, 29, 27, 22, 20], dtype=int32)"
      ]
     },
     "execution_count": 16,
     "metadata": {},
     "output_type": "execute_result"
    }
   ],
   "source": [
    "selecte = np.random.randint(0,31,4 *5).reshape(4,5)\n",
    "print(selecte)\n",
    "mask = selecte > 15\n",
    "selecte[mask]"
   ]
  },
  {
   "cell_type": "code",
   "execution_count": 17,
   "metadata": {},
   "outputs": [
    {
     "name": "stdout",
     "output_type": "stream",
     "text": [
      "[ 0  6 -6 -8  4 -9 10 -1  6  7]\n",
      "[ 0  6  0  0  4  0 10  0  6  7]\n"
     ]
    }
   ],
   "source": [
    "dixtomdix = np.random.randint(-10,11 , 10)\n",
    "print(dixtomdix)\n",
    "sete = np.array(dixtomdix >= 0, dtype=int)\n",
    "print(dixtomdix*sete)\n"
   ]
  },
  {
   "cell_type": "markdown",
   "metadata": {},
   "source": [
    "Exercice 5:"
   ]
  },
  {
   "cell_type": "code",
   "execution_count": 18,
   "metadata": {},
   "outputs": [
    {
     "name": "stdout",
     "output_type": "stream",
     "text": [
      "[6 2 6 0 0] [9 3 1 8 3]\n"
     ]
    },
    {
     "data": {
      "text/plain": [
       "array([6, 2, 6, 0, 0, 9, 3, 1, 8, 3], dtype=int32)"
      ]
     },
     "execution_count": 18,
     "metadata": {},
     "output_type": "execute_result"
    }
   ],
   "source": [
    "a = np.random.randint(0,11,5)\n",
    "b = np.random.randint(0,11,5)\n",
    "c = np.concatenate((a, b), axis=0)\n",
    "print(a, b)\n",
    "c"
   ]
  },
  {
   "cell_type": "code",
   "execution_count": 19,
   "metadata": {},
   "outputs": [
    {
     "name": "stdout",
     "output_type": "stream",
     "text": [
      "[[8 1 4 2]\n",
      " [9 5 0 3]\n",
      " [3 5 6 0]\n",
      " [3 1 5 5]\n",
      " [7 0 5 9]\n",
      " [4 0 0 3]]\n"
     ]
    },
    {
     "data": {
      "text/plain": [
       "[array([[8, 1, 4, 2],\n",
       "        [9, 5, 0, 3]], dtype=int32),\n",
       " array([[3, 5, 6, 0],\n",
       "        [3, 1, 5, 5]], dtype=int32),\n",
       " array([[7, 0, 5, 9],\n",
       "        [4, 0, 0, 3]], dtype=int32)]"
      ]
     },
     "execution_count": 19,
     "metadata": {},
     "output_type": "execute_result"
    }
   ],
   "source": [
    "a = np.random.randint(0,10, 6*4).reshape(6,4)\n",
    "print(a)\n",
    "a = np.array_split(a, 3)\n",
    "a"
   ]
  },
  {
   "cell_type": "code",
   "execution_count": 20,
   "metadata": {},
   "outputs": [
    {
     "name": "stdout",
     "output_type": "stream",
     "text": [
      "[[8 2 9 1 5 9]\n",
      " [2 0 9 2 3 7]\n",
      " [3 3 4 1 6 9]]\n"
     ]
    },
    {
     "data": {
      "text/plain": [
       "[array([[8, 2, 3],\n",
       "        [2, 0, 3]], dtype=int32),\n",
       " array([[9, 9, 4],\n",
       "        [1, 2, 1]], dtype=int32),\n",
       " array([[5, 3, 6],\n",
       "        [9, 7, 9]], dtype=int32)]"
      ]
     },
     "execution_count": 20,
     "metadata": {},
     "output_type": "execute_result"
    }
   ],
   "source": [
    "a = np.random.randint(0,10, 3*6).reshape(3, 6)\n",
    "print(a)\n",
    "a = np.array_split(a.transpose(), 3)\n",
    "a"
   ]
  },
  {
   "cell_type": "markdown",
   "metadata": {},
   "source": [
    "Exercice 6:"
   ]
  },
  {
   "cell_type": "code",
   "execution_count": 25,
   "metadata": {},
   "outputs": [
    {
     "name": "stdout",
     "output_type": "stream",
     "text": [
      "[48  4 88 50 86 58 81 15 57 20 24 34 12  5 76]\n",
      "mean: 43.86666666666667, median: 48.0, standard deviation: 28.950225483673794, variance: 838.1155555555556\n"
     ]
    }
   ],
   "source": [
    "a = np.random.randint(1,101, 15)\n",
    "print(a)\n",
    "print(f\"mean: {np.mean(a)}, median: {np.median(a)}, standard deviation: {np.std(a)}, variance: {np.var(a)}\")"
   ]
  },
  {
   "cell_type": "code",
   "execution_count": 38,
   "metadata": {},
   "outputs": [
    {
     "name": "stdout",
     "output_type": "stream",
     "text": [
      "[[42  9 26 41]\n",
      " [18 38 17  6]\n",
      " [39 11 23  9]\n",
      " [ 2 25 15 38]]\n"
     ]
    },
    {
     "data": {
      "text/plain": [
       "(array([118,  79,  82,  80]), array([101,  83,  81,  94]))"
      ]
     },
     "execution_count": 38,
     "metadata": {},
     "output_type": "execute_result"
    }
   ],
   "source": [
    "b = np.random.randint(1,51, 4*4).reshape(4,4)\n",
    "print(b)\n",
    "np.sum(b, axis=1), np.sum(b, axis=0)"
   ]
  },
  {
   "cell_type": "code",
   "execution_count": 49,
   "metadata": {},
   "outputs": [
    {
     "name": "stdout",
     "output_type": "stream",
     "text": [
      "[[[19  7  8  9]\n",
      "  [ 4  2 16 13]\n",
      "  [10  7 17  5]]\n",
      "\n",
      " [[ 7  4  6 10]\n",
      "  [ 3 10  3  4]\n",
      "  [ 9 11 14  7]]]\n",
      "min along axis 0, 1, 2\n",
      " [[ 7  4  6  9]\n",
      " [ 3  2  3  4]\n",
      " [ 9  7 14  5]] \n",
      " [[4 2 8 5]\n",
      " [3 4 3 4]] \n",
      " [[7 2 5]\n",
      " [4 3 7]]\n",
      "max along axis 0, 1, 2\n",
      " [[19  7  8 10]\n",
      " [ 4 10 16 13]\n",
      " [10 11 17  7]] \n",
      " [[19  7 17 13]\n",
      " [ 9 11 14 10]] \n",
      " [[19 16 17]\n",
      " [10 10 14]]\n"
     ]
    }
   ],
   "source": [
    "c = np.random.randint(1, 21, 2*3*4).reshape(2,3,4)\n",
    "print(c)\n",
    "print(\"min along axis 0, 1, 2\\n\",np.min(c, axis=0),\"\\n\",np.min(c, axis=1),\"\\n\",np.min(c, axis=2))\n",
    "print(\"max along axis 0, 1, 2\\n\",np.max(c, axis=0),\"\\n\",np.max(c, axis=1),\"\\n\",np.max(c, axis=2))\n"
   ]
  },
  {
   "cell_type": "markdown",
   "metadata": {},
   "source": [
    "Exercice 7:"
   ]
  },
  {
   "cell_type": "code",
   "execution_count": 50,
   "metadata": {},
   "outputs": [
    {
     "data": {
      "text/plain": [
       "array([[ 1,  2,  3,  4],\n",
       "       [ 5,  6,  7,  8],\n",
       "       [ 9, 10, 11, 12]])"
      ]
     },
     "execution_count": 50,
     "metadata": {},
     "output_type": "execute_result"
    }
   ],
   "source": [
    "a = np.arange(1,13).reshape(3,4)\n",
    "a"
   ]
  },
  {
   "cell_type": "code",
   "execution_count": 56,
   "metadata": {},
   "outputs": [
    {
     "name": "stdout",
     "output_type": "stream",
     "text": [
      "[[3 6 7 7]\n",
      " [8 1 4 2]\n",
      " [2 6 3 5]]\n"
     ]
    },
    {
     "data": {
      "text/plain": [
       "array([[3, 8, 2],\n",
       "       [6, 1, 6],\n",
       "       [7, 4, 3],\n",
       "       [7, 2, 5]], dtype=int32)"
      ]
     },
     "execution_count": 56,
     "metadata": {},
     "output_type": "execute_result"
    }
   ],
   "source": [
    "b = np.random.randint(1,11, size=(3,4))\n",
    "print(b)\n",
    "b.T"
   ]
  },
  {
   "cell_type": "code",
   "execution_count": 57,
   "metadata": {},
   "outputs": [
    {
     "name": "stdout",
     "output_type": "stream",
     "text": [
      "[[10  9  1]\n",
      " [ 3  6 10]]\n"
     ]
    },
    {
     "data": {
      "text/plain": [
       "array([[10,  9,  1,  3,  6, 10]], dtype=int32)"
      ]
     },
     "execution_count": 57,
     "metadata": {},
     "output_type": "execute_result"
    }
   ],
   "source": [
    "c = np.random.randint(1,11, size=(2,3))\n",
    "print(c)\n",
    "c.reshape(1,-1)"
   ]
  },
  {
   "cell_type": "markdown",
   "metadata": {},
   "source": [
    "Exercice 8:"
   ]
  },
  {
   "cell_type": "code",
   "execution_count": 62,
   "metadata": {},
   "outputs": [
    {
     "name": "stdout",
     "output_type": "stream",
     "text": [
      "[[ 5  4  1 10]\n",
      " [ 9  6  7  7]\n",
      " [10  2  3  4]]\n"
     ]
    },
    {
     "data": {
      "text/plain": [
       "array([[-3.        ,  0.        , -2.66666667,  3.        ],\n",
       "       [ 1.        ,  2.        ,  3.33333333,  0.        ],\n",
       "       [ 2.        , -2.        , -0.66666667, -3.        ]])"
      ]
     },
     "execution_count": 62,
     "metadata": {},
     "output_type": "execute_result"
    }
   ],
   "source": [
    "a = np.random.randint(1,11, size=(3,4))\n",
    "print(a)\n",
    "np.apply_along_axis(lambda x: x - np.mean(x), 0, a)\n"
   ]
  },
  {
   "cell_type": "code",
   "execution_count": 64,
   "metadata": {},
   "outputs": [
    {
     "data": {
      "text/plain": [
       "(array([1, 5, 2, 4], dtype=int32),\n",
       " array([2, 1, 4, 1], dtype=int32),\n",
       " array([2, 5, 8, 4], dtype=int32))"
      ]
     },
     "execution_count": 64,
     "metadata": {},
     "output_type": "execute_result"
    }
   ],
   "source": [
    "a = np.random.randint(1,6, size=(4))\n",
    "b = np.random.randint(1,6, size=(4))\n",
    "a, b, a*b"
   ]
  },
  {
   "cell_type": "code",
   "execution_count": 67,
   "metadata": {},
   "outputs": [
    {
     "name": "stdout",
     "output_type": "stream",
     "text": [
      "[[4 6 5 4 3]\n",
      " [2 5 6 2 9]\n",
      " [6 6 1 2 8]\n",
      " [7 2 5 8 5]]\n"
     ]
    },
    {
     "data": {
      "text/plain": [
       "array([[ 4, 16, 15,  4,  3],\n",
       "       [ 2, 15, 16,  2, 19],\n",
       "       [16, 16,  1,  2, 18],\n",
       "       [17,  2, 15, 18, 15]])"
      ]
     },
     "execution_count": 67,
     "metadata": {},
     "output_type": "execute_result"
    }
   ],
   "source": [
    "a = np.random.randint(1,11, size=(4,5))\n",
    "print(a)\n",
    "a + 10*(a >= 5)"
   ]
  },
  {
   "cell_type": "markdown",
   "metadata": {},
   "source": [
    "Exercice 9:"
   ]
  },
  {
   "cell_type": "code",
   "execution_count": 68,
   "metadata": {},
   "outputs": [
    {
     "data": {
      "text/plain": [
       "array([ 4,  6,  6, 10, 11, 12, 13, 16, 19, 20], dtype=int32)"
      ]
     },
     "execution_count": 68,
     "metadata": {},
     "output_type": "execute_result"
    }
   ],
   "source": [
    "a = np.random.randint(1,21, size=(10))\n",
    "np.sort(a)"
   ]
  },
  {
   "cell_type": "code",
   "execution_count": 78,
   "metadata": {},
   "outputs": [
    {
     "name": "stdout",
     "output_type": "stream",
     "text": [
      "[[16 27 26 44  2]\n",
      " [22 45 29 36 27]\n",
      " [17 13  8 26 13]]\n"
     ]
    },
    {
     "data": {
      "text/plain": [
       "array([[17, 13,  8, 26, 13],\n",
       "       [16, 27, 26, 44,  2],\n",
       "       [22, 45, 29, 36, 27]], dtype=int32)"
      ]
     },
     "execution_count": 78,
     "metadata": {},
     "output_type": "execute_result"
    }
   ],
   "source": [
    "a = np.random.randint(1,51, size=(3,5))\n",
    "print(a)\n",
    "sorted(a, key=lambda x: x[1])\n",
    "#ou\n",
    "a[np.argsort(a[:, 2])]"
   ]
  },
  {
   "cell_type": "code",
   "execution_count": 82,
   "metadata": {},
   "outputs": [
    {
     "name": "stdout",
     "output_type": "stream",
     "text": [
      "[57 32 75 11 14 13 23 79 86  7 51 42 29 42 91]\n"
     ]
    },
    {
     "data": {
      "text/plain": [
       "(array([ 0,  2,  7,  8, 10, 14]),)"
      ]
     },
     "execution_count": 82,
     "metadata": {},
     "output_type": "execute_result"
    }
   ],
   "source": [
    "a = np.random.randint(1,101, size=(15))\n",
    "print(a)\n",
    "np.where(a >= 50)"
   ]
  },
  {
   "cell_type": "markdown",
   "metadata": {},
   "source": [
    "Exercice 10:"
   ]
  },
  {
   "cell_type": "code",
   "execution_count": 84,
   "metadata": {},
   "outputs": [
    {
     "name": "stdout",
     "output_type": "stream",
     "text": [
      "[[3 8]\n",
      " [7 8]]\n"
     ]
    },
    {
     "data": {
      "text/plain": [
       "np.float64(-31.999999999999986)"
      ]
     },
     "execution_count": 84,
     "metadata": {},
     "output_type": "execute_result"
    }
   ],
   "source": [
    "a = np.random.randint(1,11, size=(2,2))\n",
    "print(a)\n",
    "np.linalg.det(a)"
   ]
  },
  {
   "cell_type": "code",
   "execution_count": 85,
   "metadata": {},
   "outputs": [
    {
     "data": {
      "text/plain": [
       "EigResult(eigenvalues=array([ 6.70418286, -1.58561072,  1.88142786]), eigenvectors=array([[ 0.59413756,  0.56759383,  0.58454213],\n",
       "       [ 0.60864781,  0.1855915 , -0.68556875],\n",
       "       [ 0.5258787 , -0.80211784,  0.43394237]]))"
      ]
     },
     "execution_count": 85,
     "metadata": {},
     "output_type": "execute_result"
    }
   ],
   "source": [
    "a = np.random.randint(1,6, size=(3,3))\n",
    "np.linalg.eig(a)"
   ]
  },
  {
   "cell_type": "code",
   "execution_count": 87,
   "metadata": {},
   "outputs": [
    {
     "name": "stdout",
     "output_type": "stream",
     "text": [
      "[[ 5  3 10]\n",
      " [ 3 10  1]] \n",
      " [[8 7]\n",
      " [7 3]\n",
      " [7 3]]\n"
     ]
    },
    {
     "data": {
      "text/plain": [
       "array([[131,  74],\n",
       "       [101,  54]], dtype=int32)"
      ]
     },
     "execution_count": 87,
     "metadata": {},
     "output_type": "execute_result"
    }
   ],
   "source": [
    "a = np.random.randint(1,11, size=(2,3))\n",
    "b = np.random.randint(1,11, size=(3,2))\n",
    "print(a,\"\\n\", b)\n",
    "np.dot(a, b)"
   ]
  },
  {
   "cell_type": "markdown",
   "metadata": {},
   "source": [
    "Exercice 11:"
   ]
  },
  {
   "cell_type": "code",
   "execution_count": 88,
   "metadata": {},
   "outputs": [
    {
     "data": {
      "text/plain": [
       "array([0.55973459, 0.31946582, 0.60213795, 0.18313407, 0.88349462,\n",
       "       0.77424901, 0.86490016, 0.72799327, 0.59337229, 0.39589197])"
      ]
     },
     "execution_count": 88,
     "metadata": {},
     "output_type": "execute_result"
    }
   ],
   "source": [
    "a = np.random.uniform(0, 1, 10)\n",
    "a"
   ]
  },
  {
   "cell_type": "code",
   "execution_count": 89,
   "metadata": {},
   "outputs": [
    {
     "data": {
      "text/plain": [
       "array([[-1.41303349, -0.5380107 , -1.73496581],\n",
       "       [ 1.60416708, -0.42120609,  1.34604747],\n",
       "       [ 2.18898293, -1.13742196, -0.11918503]])"
      ]
     },
     "execution_count": 89,
     "metadata": {},
     "output_type": "execute_result"
    }
   ],
   "source": [
    "np.random.normal(0, 1, (3, 3))"
   ]
  },
  {
   "cell_type": "code",
   "execution_count": 91,
   "metadata": {},
   "outputs": [
    {
     "name": "stdout",
     "output_type": "stream",
     "text": [
      "[36 54 25 49  9 83 30 93 90 52 52 64 12 37 24 54 83 63 69 82]\n"
     ]
    },
    {
     "data": {
      "image/png": "[encoded data removed]",
      "text/plain": [
       "<Figure size 640x480 with 1 Axes>"
      ]
     },
     "metadata": {},
     "output_type": "display_data"
    }
   ],
   "source": [
    "import matplotlib.pyplot as plt\n",
    "\n",
    "a = np.random.randint(1, 101, 20)\n",
    "print(a)\n",
    "plt.hist(a, bins=5, edgecolor='black')\n",
    "plt.xlabel('Value')\n",
    "plt.ylabel('Frequency')\n",
    "plt.title('Histogram of Random Integers')\n",
    "plt.show()"
   ]
  },
  {
   "cell_type": "markdown",
   "metadata": {},
   "source": [
    "Exercice 12:"
   ]
  },
  {
   "cell_type": "code",
   "execution_count": 93,
   "metadata": {},
   "outputs": [
    {
     "name": "stdout",
     "output_type": "stream",
     "text": [
      "[[11 19  9  9 15]\n",
      " [11 11 16  3 14]\n",
      " [10  3  6  9  3]\n",
      " [20  6  6 14 14]\n",
      " [12 14  3 16  8]]\n"
     ]
    },
    {
     "data": {
      "text/plain": [
       "array([11, 11,  6, 14,  8], dtype=int32)"
      ]
     },
     "execution_count": 93,
     "metadata": {},
     "output_type": "execute_result"
    }
   ],
   "source": [
    "a = np.random.randint(1,21, size=(5,5))\n",
    "print(a)\n",
    "np.diag(a)"
   ]
  },
  {
   "cell_type": "code",
   "execution_count": 95,
   "metadata": {},
   "outputs": [
    {
     "name": "stdout",
     "output_type": "stream",
     "text": [
      "[14  3 23 32 19 49  6 15 45 12]\n"
     ]
    },
    {
     "data": {
      "text/plain": [
       "array([ 3, 23, 19], dtype=int32)"
      ]
     },
     "execution_count": 95,
     "metadata": {},
     "output_type": "execute_result"
    }
   ],
   "source": [
    "a = np.random.randint(1, 51, size=10)\n",
    "print(a)\n",
    "def is_prime(n):\n",
    "    if n < 2:\n",
    "        return False\n",
    "    for i in range(2, int(np.sqrt(n)) + 1):\n",
    "        if n % i == 0:\n",
    "            return False\n",
    "    return True\n",
    "a[np.array([is_prime(num) for num in a])]"
   ]
  },
  {
   "cell_type": "code",
   "execution_count": 98,
   "metadata": {},
   "outputs": [
    {
     "name": "stdout",
     "output_type": "stream",
     "text": [
      "[[2 2 2 5]\n",
      " [2 2 3 3]\n",
      " [1 8 4 3]\n",
      " [4 8 8 4]]\n"
     ]
    },
    {
     "data": {
      "text/plain": [
       "array([2, 2, 2, 2, 2, 8, 4, 4, 8, 8, 4], dtype=int32)"
      ]
     },
     "execution_count": 98,
     "metadata": {},
     "output_type": "execute_result"
    }
   ],
   "source": [
    "a = np.random.randint(1, 11, size=(4,4))\n",
    "print(a)\n",
    "a[a%2 == 0]"
   ]
  },
  {
   "cell_type": "markdown",
   "metadata": {},
   "source": [
    "Exercice 13:"
   ]
  },
  {
   "cell_type": "code",
   "execution_count": 111,
   "metadata": {},
   "outputs": [
    {
     "name": "stdout",
     "output_type": "stream",
     "text": [
      "[9. 2. 6. 2. 4. 3. 9. 5. 2. 4.]\n",
      "[ 9.  2. nan  2. nan  3.  9. nan nan  4.]\n"
     ]
    }
   ],
   "source": [
    "a = np.random.randint(1, 11, size=10).astype(float)\n",
    "print(a)\n",
    "a[np.random.choice(len(a), size=np.random.randint(1,len(a)), replace=False)] = np.nan\n",
    "print(a)\n"
   ]
  },
  {
   "cell_type": "code",
   "execution_count": 112,
   "metadata": {},
   "outputs": [
    {
     "name": "stdout",
     "output_type": "stream",
     "text": [
      "[[8. 3. 4. 6.]\n",
      " [8. 5. 4. 6.]\n",
      " [3. 6. 7. 6.]]\n",
      "[[ 8. nan nan  6.]\n",
      " [ 8.  5. nan  6.]\n",
      " [nan  6.  7.  6.]]\n"
     ]
    }
   ],
   "source": [
    "a = np.random.randint(1, 11, size=(3,4)).astype(float)\n",
    "print(a)\n",
    "a[np.where(a < 5)] = np.nan\n",
    "print(a)"
   ]
  },
  {
   "cell_type": "code",
   "execution_count": 120,
   "metadata": {},
   "outputs": [
    {
     "name": "stdout",
     "output_type": "stream",
     "text": [
      "[19. 13. 16.  7. 12.  9.  9.  5. 16.  2. 11. 14. 10. 18. 10.]\n",
      "[19. 13. 16.  7. 12.  9.  9.  5. 16. nan 11. 14. 10. 18. 10.]\n",
      "(array([9]),)\n"
     ]
    }
   ],
   "source": [
    "a = np.random.randint(1, 21, size=(15)).astype(float)\n",
    "print(a)\n",
    "a[np.where(a < 5)] = np.nan\n",
    "print(a)\n",
    "print(np.where(np.isnan(a)))"
   ]
  },
  {
   "cell_type": "markdown",
   "metadata": {},
   "source": [
    "Exercice 14:"
   ]
  },
  {
   "cell_type": "code",
   "execution_count": 126,
   "metadata": {},
   "outputs": [
    {
     "name": "stdout",
     "output_type": "stream",
     "text": [
      "1000000\n"
     ]
    },
    {
     "data": {
      "text/plain": [
       "(np.float64(50.548167), np.float64(28.872688824217786))"
      ]
     },
     "execution_count": 126,
     "metadata": {},
     "output_type": "execute_result"
    }
   ],
   "source": [
    "a = np.random.randint(1, 101, size=1000000)\n",
    "print(a.size)\n",
    "a.mean(), a.std()"
   ]
  },
  {
   "cell_type": "markdown",
   "metadata": {},
   "source": [
    "0 time taken."
   ]
  },
  {
   "cell_type": "code",
   "execution_count": 127,
   "metadata": {},
   "outputs": [
    {
     "data": {
      "text/plain": [
       "array([[ 7,  8,  9, ..., 14,  6,  6],\n",
       "       [17,  6,  4, ..., 13, 14, 20],\n",
       "       [19,  9,  9, ..., 10,  3, 16],\n",
       "       ...,\n",
       "       [ 5, 11, 14, ...,  8, 15,  8],\n",
       "       [ 9, 12, 17, ..., 13, 14,  7],\n",
       "       [10,  7, 18, ...,  9,  6, 14]], dtype=int32)"
      ]
     },
     "execution_count": 127,
     "metadata": {},
     "output_type": "execute_result"
    }
   ],
   "source": [
    "a = np.random.randint(1, 11, size=(1000,1000))\n",
    "b = np.random.randint(1, 11, size=(1000,1000))\n",
    "a+b"
   ]
  },
  {
   "cell_type": "markdown",
   "metadata": {},
   "source": [
    "0,1 seconds"
   ]
  },
  {
   "cell_type": "code",
   "execution_count": 128,
   "metadata": {},
   "outputs": [
    {
     "data": {
      "text/plain": [
       "(array([[502, 529, 523, ..., 539, 539, 572],\n",
       "        [561, 572, 585, ..., 528, 567, 582],\n",
       "        [523, 548, 580, ..., 566, 525, 562],\n",
       "        ...,\n",
       "        [513, 574, 556, ..., 508, 559, 543],\n",
       "        [580, 551, 520, ..., 542, 554, 510],\n",
       "        [546, 529, 592, ..., 548, 563, 536]]),\n",
       " array([[535, 589, 517, ..., 514, 518, 604],\n",
       "        [551, 554, 569, ..., 584, 555, 589],\n",
       "        [545, 559, 569, ..., 555, 518, 562],\n",
       "        ...,\n",
       "        [555, 531, 556, ..., 576, 545, 530],\n",
       "        [571, 577, 541, ..., 479, 499, 545],\n",
       "        [551, 533, 583, ..., 513, 530, 542]]),\n",
       " array([[609, 572, 577, ..., 529, 625, 544],\n",
       "        [549, 519, 555, ..., 566, 523, 557],\n",
       "        [544, 594, 548, ..., 580, 523, 535],\n",
       "        ...,\n",
       "        [521, 539, 564, ..., 574, 589, 521],\n",
       "        [508, 535, 529, ..., 569, 581, 618],\n",
       "        [543, 577, 531, ..., 524, 563, 501]]))"
      ]
     },
     "execution_count": 128,
     "metadata": {},
     "output_type": "execute_result"
    }
   ],
   "source": [
    "a = np.random.randint(1, 11, size=(100,100,100))\n",
    "np.sum(a, axis=0),np.sum(a, axis=1),np.sum(a, axis=2)"
   ]
  },
  {
   "cell_type": "markdown",
   "metadata": {},
   "source": [
    "0s"
   ]
  },
  {
   "cell_type": "markdown",
   "metadata": {},
   "source": [
    "Exercice 15:"
   ]
  },
  {
   "cell_type": "code",
   "execution_count": 130,
   "metadata": {},
   "outputs": [
    {
     "name": "stdout",
     "output_type": "stream",
     "text": [
      "[ 1  2  3  4  5  6  7  8  9 10]\n"
     ]
    },
    {
     "data": {
      "text/plain": [
       "(array([ 1,  3,  6, 10, 15, 21, 28, 36, 45, 55]),\n",
       " array([      1,       2,       6,      24,     120,     720,    5040,\n",
       "          40320,  362880, 3628800]))"
      ]
     },
     "execution_count": 130,
     "metadata": {},
     "output_type": "execute_result"
    }
   ],
   "source": [
    "a = np.arange(1,11)\n",
    "print(a)\n",
    "np.cumsum(a),np.cumprod(a) "
   ]
  },
  {
   "cell_type": "code",
   "execution_count": 132,
   "metadata": {},
   "outputs": [
    {
     "name": "stdout",
     "output_type": "stream",
     "text": [
      "[[20  5  7  9]\n",
      " [ 4  9 14 10]\n",
      " [ 7  3  4  2]\n",
      " [ 5  8  7  5]]\n"
     ]
    },
    {
     "data": {
      "text/plain": [
       "(array([[20,  5,  7,  9],\n",
       "        [24, 14, 21, 19],\n",
       "        [31, 17, 25, 21],\n",
       "        [36, 25, 32, 26]]),\n",
       " array([[20, 25, 32, 41],\n",
       "        [ 4, 13, 27, 37],\n",
       "        [ 7, 10, 14, 16],\n",
       "        [ 5, 13, 20, 25]]))"
      ]
     },
     "execution_count": 132,
     "metadata": {},
     "output_type": "execute_result"
    }
   ],
   "source": [
    "a = np.random.randint(1, 21, size=(4,4))\n",
    "print(a)\n",
    "np.cumsum(a, axis=0), np.cumsum(a, axis=1)"
   ]
  },
  {
   "cell_type": "code",
   "execution_count": 134,
   "metadata": {},
   "outputs": [
    {
     "name": "stdout",
     "output_type": "stream",
     "text": [
      "[17 39 34 35 19 23 41 17 30 22]\n"
     ]
    },
    {
     "data": {
      "text/plain": [
       "(np.int32(17), np.int32(41), np.int64(277))"
      ]
     },
     "execution_count": 134,
     "metadata": {},
     "output_type": "execute_result"
    }
   ],
   "source": [
    "a = np.random.randint(1, 51, size=(10))\n",
    "print(a)\n",
    "np.min(a), np.max(a), np.sum(a)"
   ]
  },
  {
   "cell_type": "markdown",
   "metadata": {},
   "source": [
    "Exercice 16:"
   ]
  },
  {
   "cell_type": "code",
   "execution_count": 135,
   "metadata": {},
   "outputs": [
    {
     "data": {
      "text/plain": [
       "array(['2025-02-21', '2025-02-22', '2025-02-23', '2025-02-24',\n",
       "       '2025-02-25', '2025-02-26', '2025-02-27', '2025-02-28',\n",
       "       '2025-03-01', '2025-03-02'], dtype='datetime64[D]')"
      ]
     },
     "execution_count": 135,
     "metadata": {},
     "output_type": "execute_result"
    }
   ],
   "source": [
    "dates = np.arange(np.datetime64('today'), np.datetime64('today') + 10, dtype='datetime64[D]')\n",
    "dates"
   ]
  },
  {
   "cell_type": "code",
   "execution_count": 137,
   "metadata": {},
   "outputs": [
    {
     "data": {
      "text/plain": [
       "array(['2022-01', '2022-02', '2022-03', '2022-04', '2022-05'],\n",
       "      dtype='datetime64[M]')"
      ]
     },
     "execution_count": 137,
     "metadata": {},
     "output_type": "execute_result"
    }
   ],
   "source": [
    "dates = np.arange(np.datetime64('2022-01-01'), np.datetime64('2022-06-01') , dtype='datetime64[M]')\n",
    "dates"
   ]
  },
  {
   "cell_type": "code",
   "execution_count": 140,
   "metadata": {},
   "outputs": [
    {
     "data": {
      "text/plain": [
       "array(['2023-09-10T22:16:43', '2023-02-15T00:42:43',\n",
       "       '2023-09-01T07:37:42', '2023-04-15T06:56:44',\n",
       "       '2023-10-20T09:52:58', '2023-04-04T08:33:47',\n",
       "       '2023-02-05T21:47:12', '2023-01-04T02:01:04',\n",
       "       '2023-03-05T00:48:28', '2023-08-10T05:59:58'],\n",
       "      dtype='datetime64[s]')"
      ]
     },
     "execution_count": 140,
     "metadata": {},
     "output_type": "execute_result"
    }
   ],
   "source": [
    "start = np.datetime64('2023-01-01T00:00:00')\n",
    "end = np.datetime64('2023-12-31T23:59:59')\n",
    "\n",
    "random_timestamps = np.random.randint(start.astype('int'), end.astype('int'), size=10)\n",
    "\n",
    "datetime_array = random_timestamps.astype('datetime64[s]')\n",
    "datetime_array"
   ]
  },
  {
   "cell_type": "markdown",
   "metadata": {},
   "source": [
    "Exercice 17:"
   ]
  },
  {
   "cell_type": "code",
   "execution_count": 147,
   "metadata": {},
   "outputs": [
    {
     "data": {
      "text/plain": [
       "array([( 5, '101'), (10, '1010'), (15, '1111'), (20, '10100'),\n",
       "       (25, '11001')], dtype=[('integer', '<i4'), ('binary', '<U10')])"
      ]
     },
     "execution_count": 147,
     "metadata": {},
     "output_type": "execute_result"
    }
   ],
   "source": [
    "dt = np.dtype([('integer', np.int32), ('binary', 'U10')])\n",
    "\n",
    "a = np.array([5, 10, 15, 20, 25])\n",
    "\n",
    "np.array([(num, format(num, 'b')) for num in a], dtype=dt)"
   ]
  },
  {
   "cell_type": "code",
   "execution_count": null,
   "metadata": {},
   "outputs": [
    {
     "name": "stdout",
     "output_type": "stream",
     "text": [
      "\n",
      "2D Array avec nombres complexes :\n",
      " [[( 1.,  2.) ( 3.,  4.) ( 5.,  6.)]\n",
      " [( 7.,  8.) ( 9., 10.) (11., 12.)]\n",
      " [(13., 14.) (15., 16.) (17., 18.)]]\n"
     ]
    }
   ],
   "source": [
    "complex_dtype = np.dtype([('real', np.float64), ('imag', np.float64)])\n",
    "complex_arr = np.array([[(1, 2), (3, 4), (5, 6)],\n",
    "                        [(7, 8), (9, 10), (11, 12)],\n",
    "                        [(13, 14), (15, 16), (17, 18)]], dtype=complex_dtype)\n",
    "\n",
    "complex_arr"
   ]
  },
  {
   "cell_type": "code",
   "execution_count": 149,
   "metadata": {},
   "outputs": [
    {
     "data": {
      "text/plain": [
       "array([('1984', 'George Orwell', 328),\n",
       "       ('To Kill a Mockingbird', 'Harper Lee', 281),\n",
       "       ('The Great Gatsby', 'F. Scott Fitzgerald', 180)],\n",
       "      dtype=[('title', '<U50'), ('author', '<U50'), ('pages', '<i4')])"
      ]
     },
     "execution_count": 149,
     "metadata": {},
     "output_type": "execute_result"
    }
   ],
   "source": [
    "book_dtype = np.dtype([('title', 'U50'), ('author', 'U50'), ('pages', np.int32)])\n",
    "books = np.array([\n",
    "    (\"1984\", \"George Orwell\", 328),\n",
    "    (\"To Kill a Mockingbird\", \"Harper Lee\", 281),\n",
    "    (\"The Great Gatsby\", \"F. Scott Fitzgerald\", 180)\n",
    "], dtype=book_dtype)\n",
    "\n",
    "books"
   ]
  }
 ],
 "metadata": {
  "kernelspec": {
   "display_name": "Python 3",
   "language": "python",
   "name": "python3"
  },
  "language_info": {
   "codemirror_mode": {
    "name": "ipython",
    "version": 3
   },
   "file_extension": ".py",
   "mimetype": "text/x-python",
   "name": "python",
   "nbconvert_exporter": "python",
   "pygments_lexer": "ipython3",
   "version": "3.12.5"
  }
 },
 "nbformat": 4,
 "nbformat_minor": 2
}
